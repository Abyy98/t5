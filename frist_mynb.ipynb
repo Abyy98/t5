{
  "nbformat": 4,
  "nbformat_minor": 0,
  "metadata": {
    "colab": {
      "provenance": [],
      "authorship_tag": "ABX9TyN/XG+YrjSzJWJileDyNvi3",
      "include_colab_link": true
    },
    "kernelspec": {
      "name": "python3",
      "display_name": "Python 3"
    },
    "language_info": {
      "name": "python"
    }
  },
  "cells": [
    {
      "cell_type": "markdown",
      "metadata": {
        "id": "view-in-github",
        "colab_type": "text"
      },
      "source": [
        "<a href=\"https://colab.research.google.com/github/Abyy98/t5/blob/main/frist_mynb.ipynb\" target=\"_parent\"><img src=\"https://colab.research.google.com/assets/colab-badge.svg\" alt=\"Open In Colab\"/></a>"
      ]
    },
    {
      "cell_type": "code",
      "source": [
        "print (\"HELLO ABEERA\")"
      ],
      "metadata": {
        "colab": {
          "base_uri": "https://localhost:8080/"
        },
        "id": "MllbsmN6ffkx",
        "outputId": "1761bdeb-a2b1-48ad-e9e4-7519ef3d5a85"
      },
      "execution_count": null,
      "outputs": [
        {
          "output_type": "stream",
          "name": "stdout",
          "text": [
            "HELLO ABEERA\n"
          ]
        }
      ]
    },
    {
      "cell_type": "markdown",
      "source": [
        "**boold**  \n",
        "*italicise*\n",
        "# frist nb\n"
      ],
      "metadata": {
        "id": "a9IpB_-3LNfd"
      }
    },
    {
      "cell_type": "markdown",
      "source": [],
      "metadata": {
        "id": "Ct8xQbfI2m8Z"
      }
    },
    {
      "cell_type": "markdown",
      "source": [],
      "metadata": {
        "id": "fami-yE3J3rh"
      }
    }
  ]
}